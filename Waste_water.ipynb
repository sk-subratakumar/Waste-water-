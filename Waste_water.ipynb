{
  "nbformat": 4,
  "nbformat_minor": 0,
  "metadata": {
    "colab": {
      "provenance": [],
      "authorship_tag": "ABX9TyNKiwkTH9k/Eu1SlBofhKJt",
      "include_colab_link": true
    },
    "kernelspec": {
      "name": "python3",
      "display_name": "Python 3"
    },
    "language_info": {
      "name": "python"
    }
  },
  "cells": [
    {
      "cell_type": "markdown",
      "metadata": {
        "id": "view-in-github",
        "colab_type": "text"
      },
      "source": [
        "<a href=\"https://colab.research.google.com/github/sk-subratakumar/Waste-water-/blob/main/Waste_water.ipynb\" target=\"_parent\"><img src=\"https://colab.research.google.com/assets/colab-badge.svg\" alt=\"Open In Colab\"/></a>"
      ]
    },
    {
      "cell_type": "code",
      "execution_count": null,
      "metadata": {
        "id": "YbE1QFu-lyv5",
        "colab": {
          "base_uri": "https://localhost:8080/"
        },
        "outputId": "a883edf1-39a2-45ab-99ab-ae81d38a62b1"
      },
      "outputs": [
        {
          "output_type": "stream",
          "name": "stdout",
          "text": [
            "   WASTE_ID  SOURCE   ORG_ID WWTP_NAME  COUNTRY CNTRY_ISO  LATITUDE  \\\n",
            "0      2248       1  1279514  Strzyzow  Ukraine       UKR    50.841   \n",
            "1     56448      12     3598       NaN  Ukraine       UKR    44.396   \n",
            "2     56449      12     3599       NaN  Ukraine       UKR    44.410   \n",
            "3     56450      12     3600       NaN  Ukraine       UKR    44.440   \n",
            "4     56452      12     3602       NaN  Ukraine       UKR    44.477   \n",
            "\n",
            "   LONGITUDE  QUAL_LOC  LAT_OUT  ...  QUAL_WASTE      LEVEL  QUAL_LEVEL  \\\n",
            "0     24.031         2   50.840  ...           1  Secondary           1   \n",
            "1     33.977         1   44.390  ...           4  Secondary           2   \n",
            "2     34.021         1   44.390  ...           4  Secondary           2   \n",
            "3     33.724         1   44.494  ...           4  Secondary           2   \n",
            "4     33.789         1   44.494  ...           4  Secondary           2   \n",
            "\n",
            "            DF  HYRIV_ID  RIVER_DIS COAST_10KM  COAST_50KM  DESIGN_CAP  \\\n",
            "0  36188011.51  20352809     40.163          0           0      2500.0   \n",
            "1          NaN  20516712        NaN          1           1         NaN   \n",
            "2          NaN  20516712        NaN          1           1         NaN   \n",
            "3       119.86  20514644      2.856          0           1         NaN   \n",
            "4       101.92  20514644      2.856          0           1         NaN   \n",
            "\n",
            "   QUAL_CAP  \n",
            "0         2  \n",
            "1         3  \n",
            "2         3  \n",
            "3         3  \n",
            "4         3  \n",
            "\n",
            "[5 rows x 25 columns]\n",
            "<class 'pandas.core.frame.DataFrame'>\n",
            "RangeIndex: 312 entries, 0 to 311\n",
            "Data columns (total 25 columns):\n",
            " #   Column      Non-Null Count  Dtype  \n",
            "---  ------      --------------  -----  \n",
            " 0   WASTE_ID    312 non-null    int64  \n",
            " 1   SOURCE      312 non-null    int64  \n",
            " 2   ORG_ID      312 non-null    int64  \n",
            " 3   WWTP_NAME   1 non-null      object \n",
            " 4   COUNTRY     312 non-null    object \n",
            " 5   CNTRY_ISO   312 non-null    object \n",
            " 6   LATITUDE    312 non-null    float64\n",
            " 7   LONGITUDE   312 non-null    float64\n",
            " 8   QUAL_LOC    312 non-null    int64  \n",
            " 9   LAT_OUT     312 non-null    float64\n",
            " 10  LON_OUT     312 non-null    float64\n",
            " 11  STATUS      312 non-null    object \n",
            " 12  POP_SERVED  312 non-null    int64  \n",
            " 13  QUAL_POP    312 non-null    int64  \n",
            " 14  WASTE_DIS   312 non-null    float64\n",
            " 15  QUAL_WASTE  312 non-null    int64  \n",
            " 16  LEVEL       312 non-null    object \n",
            " 17  QUAL_LEVEL  312 non-null    int64  \n",
            " 18  DF          251 non-null    float64\n",
            " 19  HYRIV_ID    312 non-null    int64  \n",
            " 20  RIVER_DIS   251 non-null    float64\n",
            " 21  COAST_10KM  312 non-null    int64  \n",
            " 22  COAST_50KM  312 non-null    int64  \n",
            " 23  DESIGN_CAP  1 non-null      float64\n",
            " 24  QUAL_CAP    312 non-null    int64  \n",
            "dtypes: float64(8), int64(12), object(5)\n",
            "memory usage: 61.1+ KB\n",
            "None\n",
            "           WASTE_ID      SOURCE        ORG_ID    LATITUDE   LONGITUDE  \\\n",
            "count    312.000000  312.000000  3.120000e+02  312.000000  312.000000   \n",
            "mean   56552.035256   11.964744  7.965228e+03   48.436282   32.639359   \n",
            "std     3087.350125    0.622752  7.221888e+04    1.875589    4.392967   \n",
            "min     2248.000000    1.000000  3.598000e+03   44.396000   22.247000   \n",
            "25%    56631.750000   12.000000  3.784500e+03   47.485250   30.317750   \n",
            "50%    56741.500000   12.000000  3.892500e+03   48.629000   33.558000   \n",
            "75%    56830.250000   12.000000  3.981500e+03   49.912000   36.063500   \n",
            "max    57032.000000   12.000000  1.279514e+06   51.864000   40.122000   \n",
            "\n",
            "         QUAL_LOC     LAT_OUT     LON_OUT     POP_SERVED    QUAL_POP  \\\n",
            "count  312.000000  312.000000  312.000000     312.000000  312.000000   \n",
            "mean     1.003205   48.429022   32.643567   58978.756410    3.993590   \n",
            "std      0.056614    1.877494    4.387353   99288.113629    0.113228   \n",
            "min      1.000000   44.390000   22.148000      86.000000    2.000000   \n",
            "25%      1.000000   47.517750   30.310500    9672.500000    4.000000   \n",
            "50%      1.000000   48.614500   33.587500   23400.500000    4.000000   \n",
            "75%      1.000000   49.877250   36.056000   62626.000000    4.000000   \n",
            "max      2.000000   51.906000   40.027000  719465.000000    4.000000   \n",
            "\n",
            "          WASTE_DIS  QUAL_WASTE  QUAL_LEVEL            DF      HYRIV_ID  \\\n",
            "count    312.000000  312.000000  312.000000  2.510000e+02  3.120000e+02   \n",
            "mean    4907.924429    3.990385    1.996795  1.623563e+05  2.041507e+07   \n",
            "std     8262.338956    0.169842    0.056614  2.284632e+06  4.900925e+04   \n",
            "min        0.096000    1.000000    1.000000  2.344000e+00  2.032617e+07   \n",
            "25%      804.939500    4.000000    2.000000  4.591700e+01  2.037663e+07   \n",
            "50%     1947.280000    4.000000    2.000000  1.847000e+02  2.040854e+07   \n",
            "75%     5211.444500    4.000000    2.000000  1.001125e+03  2.044076e+07   \n",
            "max    59870.713000    4.000000    2.000000  3.618801e+07  2.051671e+07   \n",
            "\n",
            "         RIVER_DIS  COAST_10KM  COAST_50KM  DESIGN_CAP    QUAL_CAP  \n",
            "count   251.000000  312.000000  312.000000         1.0  312.000000  \n",
            "mean    169.591992    0.195513    0.371795      2500.0    2.996795  \n",
            "std     697.016959    0.397232    0.484060         NaN    0.056614  \n",
            "min       0.072000    0.000000    0.000000      2500.0    2.000000  \n",
            "25%       0.976000    0.000000    0.000000      2500.0    3.000000  \n",
            "50%       3.744000    0.000000    0.000000      2500.0    3.000000  \n",
            "75%      30.397000    0.000000    1.000000      2500.0    3.000000  \n",
            "max    6761.125000    1.000000    1.000000      2500.0    3.000000  \n"
          ]
        }
      ],
      "source": [
        "import pandas as pd\n",
        "\n",
        "\n",
        "df = pd.read_csv(\"/content/Waste water.csv\")\n",
        "\n",
        "\n",
        "print(df.head())\n",
        "\n",
        "print(df.info())\n",
        "\n",
        "\n",
        "print(df.describe())"
      ]
    },
    {
      "cell_type": "code",
      "source": [],
      "metadata": {
        "id": "1KaH2pK4osfQ"
      },
      "execution_count": null,
      "outputs": []
    },
    {
      "cell_type": "code",
      "source": [],
      "metadata": {
        "id": "r_Ulfmr5o-2V"
      },
      "execution_count": null,
      "outputs": []
    }
  ]
}